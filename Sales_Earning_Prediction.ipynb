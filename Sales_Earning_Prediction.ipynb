{
    "cells": [
        {
            "metadata": {},
            "cell_type": "markdown",
            "source": "#                     Sales Earning Prediction of New Video Game"
        },
        {
            "metadata": {
                "collapsed": true
            },
            "cell_type": "markdown",
            "source": "# Preprocessing Data for Sales Earning Prediction Of New Video Game....\n\n1. Load training dataset from CSV file.\n2. Load testing dataset from  CSV file\n3. Sacled the data in range between 0 and 1.\n4. Create new pandas dataframe object from the sacled data.\n5. Save the dataframe to new CSV file.\n6. Visualize the data using matplotlib."
        },
        {
            "metadata": {},
            "cell_type": "markdown",
            "source": "# Now importing the required library which is required us...."
        },
        {
            "metadata": {},
            "cell_type": "code",
            "source": "import pandas as pd\nfrom sklearn.preprocessing import MinMaxScaler",
            "execution_count": 1,
            "outputs": []
        },
        {
            "metadata": {},
            "cell_type": "markdown",
            "source": "# 1). Load the Training Dataset to our notebook"
        },
        {
            "metadata": {},
            "cell_type": "code",
            "source": "# Training Data....\n\nimport pandas as pd\nfrom botocore.client import Config\nimport ibm_boto3\n\ndef __iter__(self): return 0\n\n# @hidden_cell\n# The following code accesses a file in your IBM Cloud Object Storage. It includes your credentials.\n# You might want to remove those credentials before you share the notebook.\nclient_f64b5f27fc854b7f80899f2b97ec10fd = ibm_boto3.client(service_name='s3',\n    ibm_api_key_id='bGF0dMytzj6VWck006qxWXmPaqh5yrlBh1ClkiO9d36M',\n    ibm_auth_endpoint=\"https://iam.ng.bluemix.net/oidc/token\",\n    config=Config(signature_version='oauth'),\n    endpoint_url='https://s3-api.us-geo.objectstorage.service.networklayer.com')\n\nbody = client_f64b5f27fc854b7f80899f2b97ec10fd.get_object(Bucket='alex-donotdelete-pr-2ol1y2nhtgiuwv',Key='sales_data_training.csv')['Body']\n# add missing __iter__ method, so pandas accepts body as file-like object\nif not hasattr(body, \"__iter__\"): body.__iter__ = types.MethodType( __iter__, body )\n\n# If you are reading an Excel file into a pandas DataFrame, replace `read_csv` by `read_excel` in the next statement.\ndf_training_data = pd.read_csv(body)\ndf_training_data.head()\n",
            "execution_count": 2,
            "outputs": [
                {
                    "output_type": "execute_result",
                    "execution_count": 2,
                    "data": {
                        "text/plain": "   critic_rating  is_action  is_exclusive_to_us  is_portable  is_role_playing  \\\n0            3.5          1                   0            1                0   \n1            4.5          0                   0            0                0   \n2            3.0          0                   0            0                0   \n3            4.5          1                   0            0                0   \n4            4.0          1                   0            1                0   \n\n   is_sequel  is_sports  suitable_for_kids  total_earnings  unit_price  \n0          1          0                  0          132717       59.99  \n1          1          1                  0           83407       49.99  \n2          1          1                  0           62423       49.99  \n3          0          0                  1           69889       39.99  \n4          1          0                  1          161382       59.99  ",
                        "text/html": "<div>\n<style scoped>\n    .dataframe tbody tr th:only-of-type {\n        vertical-align: middle;\n    }\n\n    .dataframe tbody tr th {\n        vertical-align: top;\n    }\n\n    .dataframe thead th {\n        text-align: right;\n    }\n</style>\n<table border=\"1\" class=\"dataframe\">\n  <thead>\n    <tr style=\"text-align: right;\">\n      <th></th>\n      <th>critic_rating</th>\n      <th>is_action</th>\n      <th>is_exclusive_to_us</th>\n      <th>is_portable</th>\n      <th>is_role_playing</th>\n      <th>is_sequel</th>\n      <th>is_sports</th>\n      <th>suitable_for_kids</th>\n      <th>total_earnings</th>\n      <th>unit_price</th>\n    </tr>\n  </thead>\n  <tbody>\n    <tr>\n      <th>0</th>\n      <td>3.5</td>\n      <td>1</td>\n      <td>0</td>\n      <td>1</td>\n      <td>0</td>\n      <td>1</td>\n      <td>0</td>\n      <td>0</td>\n      <td>132717</td>\n      <td>59.99</td>\n    </tr>\n    <tr>\n      <th>1</th>\n      <td>4.5</td>\n      <td>0</td>\n      <td>0</td>\n      <td>0</td>\n      <td>0</td>\n      <td>1</td>\n      <td>1</td>\n      <td>0</td>\n      <td>83407</td>\n      <td>49.99</td>\n    </tr>\n    <tr>\n      <th>2</th>\n      <td>3.0</td>\n      <td>0</td>\n      <td>0</td>\n      <td>0</td>\n      <td>0</td>\n      <td>1</td>\n      <td>1</td>\n      <td>0</td>\n      <td>62423</td>\n      <td>49.99</td>\n    </tr>\n    <tr>\n      <th>3</th>\n      <td>4.5</td>\n      <td>1</td>\n      <td>0</td>\n      <td>0</td>\n      <td>0</td>\n      <td>0</td>\n      <td>0</td>\n      <td>1</td>\n      <td>69889</td>\n      <td>39.99</td>\n    </tr>\n    <tr>\n      <th>4</th>\n      <td>4.0</td>\n      <td>1</td>\n      <td>0</td>\n      <td>1</td>\n      <td>0</td>\n      <td>1</td>\n      <td>0</td>\n      <td>1</td>\n      <td>161382</td>\n      <td>59.99</td>\n    </tr>\n  </tbody>\n</table>\n</div>"
                    },
                    "metadata": {}
                }
            ]
        },
        {
            "metadata": {},
            "cell_type": "markdown",
            "source": "# 2). Load the Testing Dataset to our notebook"
        },
        {
            "metadata": {},
            "cell_type": "code",
            "source": "#testing Data....\n\nbody = client_f64b5f27fc854b7f80899f2b97ec10fd.get_object(Bucket='alex-donotdelete-pr-2ol1y2nhtgiuwv',Key='sales_data_test.csv')['Body']\n# add missing __iter__ method, so pandas accepts body as file-like object\nif not hasattr(body, \"__iter__\"): body.__iter__ = types.MethodType( __iter__, body )\n\n# If you are reading an Excel file into a pandas DataFrame, replace `read_csv` by `read_excel` in the next statement.\ndf_test_data = pd.read_csv(body)\ndf_test_data.head()\n",
            "execution_count": 3,
            "outputs": [
                {
                    "output_type": "execute_result",
                    "execution_count": 3,
                    "data": {
                        "text/plain": "   critic_rating  is_action  is_exclusive_to_us  is_portable  is_role_playing  \\\n0            3.5          1                   1            1                0   \n1            2.5          0                   0            0                1   \n2            3.5          0                   0            0                0   \n3            4.0          1                   1            0                0   \n4            2.0          1                   0            1                0   \n\n   is_sequel  is_sports  suitable_for_kids  total_earnings  unit_price  \n0          1          0                  1          247537       59.99  \n1          1          0                  0           73960       59.99  \n2          1          1                  0           82671       59.99  \n3          1          0                  0          137456       39.99  \n4          1          0                  0           89639       59.99  ",
                        "text/html": "<div>\n<style scoped>\n    .dataframe tbody tr th:only-of-type {\n        vertical-align: middle;\n    }\n\n    .dataframe tbody tr th {\n        vertical-align: top;\n    }\n\n    .dataframe thead th {\n        text-align: right;\n    }\n</style>\n<table border=\"1\" class=\"dataframe\">\n  <thead>\n    <tr style=\"text-align: right;\">\n      <th></th>\n      <th>critic_rating</th>\n      <th>is_action</th>\n      <th>is_exclusive_to_us</th>\n      <th>is_portable</th>\n      <th>is_role_playing</th>\n      <th>is_sequel</th>\n      <th>is_sports</th>\n      <th>suitable_for_kids</th>\n      <th>total_earnings</th>\n      <th>unit_price</th>\n    </tr>\n  </thead>\n  <tbody>\n    <tr>\n      <th>0</th>\n      <td>3.5</td>\n      <td>1</td>\n      <td>1</td>\n      <td>1</td>\n      <td>0</td>\n      <td>1</td>\n      <td>0</td>\n      <td>1</td>\n      <td>247537</td>\n      <td>59.99</td>\n    </tr>\n    <tr>\n      <th>1</th>\n      <td>2.5</td>\n      <td>0</td>\n      <td>0</td>\n      <td>0</td>\n      <td>1</td>\n      <td>1</td>\n      <td>0</td>\n      <td>0</td>\n      <td>73960</td>\n      <td>59.99</td>\n    </tr>\n    <tr>\n      <th>2</th>\n      <td>3.5</td>\n      <td>0</td>\n      <td>0</td>\n      <td>0</td>\n      <td>0</td>\n      <td>1</td>\n      <td>1</td>\n      <td>0</td>\n      <td>82671</td>\n      <td>59.99</td>\n    </tr>\n    <tr>\n      <th>3</th>\n      <td>4.0</td>\n      <td>1</td>\n      <td>1</td>\n      <td>0</td>\n      <td>0</td>\n      <td>1</td>\n      <td>0</td>\n      <td>0</td>\n      <td>137456</td>\n      <td>39.99</td>\n    </tr>\n    <tr>\n      <th>4</th>\n      <td>2.0</td>\n      <td>1</td>\n      <td>0</td>\n      <td>1</td>\n      <td>0</td>\n      <td>1</td>\n      <td>0</td>\n      <td>0</td>\n      <td>89639</td>\n      <td>59.99</td>\n    </tr>\n  </tbody>\n</table>\n</div>"
                    },
                    "metadata": {}
                }
            ]
        },
        {
            "metadata": {},
            "cell_type": "markdown",
            "source": "# 3).  Sacled the data in range between 0 and 1."
        },
        {
            "metadata": {},
            "cell_type": "code",
            "source": "# Data needs to be scaled to a small range like 0 to 1 for the neural network to work well.\n\nscaler=MinMaxScaler(feature_range=(0,1))\nscaled_training=scaler.fit_transform(df_training_data)\nscaled_testing=scaler.transform(df_test_data)\n",
            "execution_count": 4,
            "outputs": [
                {
                    "output_type": "stream",
                    "text": "/opt/conda/envs/Python36/lib/python3.6/site-packages/sklearn/preprocessing/data.py:334: DataConversionWarning: Data with input dtype int64, float64 were all converted to float64 by MinMaxScaler.\n  return self.partial_fit(X, y)\n",
                    "name": "stderr"
                }
            ]
        },
        {
            "metadata": {},
            "cell_type": "markdown",
            "source": "# Normalization of the Label for Prediction"
        },
        {
            "metadata": {},
            "cell_type": "code",
            "source": "print(\"Note : Total_earnings values were scaled by multiplying by {:0.10f} and adding {:0.6f}\".format(scaler.scale_[8],scaler.min_[8]))",
            "execution_count": 5,
            "outputs": [
                {
                    "output_type": "stream",
                    "text": "Note : Total_earnings values were scaled by multiplying by 0.0000036968 and adding -0.115913\n",
                    "name": "stdout"
                }
            ]
        },
        {
            "metadata": {},
            "cell_type": "markdown",
            "source": "# 4). Create new DataFrame from the Scaled Data"
        },
        {
            "metadata": {},
            "cell_type": "code",
            "source": "# Create new pandas Dataframe object from the scaled data\n\nscaled_training_df=pd.DataFrame(scaled_training,columns=df_training_data.columns.values)\nscaled_testing_df=pd.DataFrame(scaled_training,columns=df_test_data.columns.values)\n",
            "execution_count": 6,
            "outputs": []
        },
        {
            "metadata": {},
            "cell_type": "markdown",
            "source": "# 5). Save the dataframe to new CSV file."
        },
        {
            "metadata": {},
            "cell_type": "code",
            "source": "#Save scaled data dataframe to new CSV file\n\nscaled_training_df.to_csv(\"Scaled_Sales_Training_data.csv\",index=False)\nscaled_testing_df.to_csv(\"Scaled_Sales_Testing_data.csv\",index=False)\n",
            "execution_count": 7,
            "outputs": []
        },
        {
            "metadata": {},
            "cell_type": "markdown",
            "source": "# Data Visualization"
        },
        {
            "metadata": {},
            "cell_type": "code",
            "source": "import seaborn as sb\n\nsb.catplot('critic_rating','total_earnings',data=df_training_data,kind='bar')",
            "execution_count": 9,
            "outputs": [
                {
                    "output_type": "execute_result",
                    "execution_count": 9,
                    "data": {
                        "text/plain": "<seaborn.axisgrid.FacetGrid at 0x7f9d387e5cf8>"
                    },
                    "metadata": {}
                },
                {
                    "output_type": "display_data",
                    "data": {
                        "text/plain": "<Figure size 360x360 with 1 Axes>",
                        "image/png": "[encoded data removed]"
                    },
                    "metadata": {
                        "needs_background": "light"
                    }
                }
            ]
        },
        {
            "metadata": {},
            "cell_type": "code",
            "source": "sb.catplot('unit_price','total_earnings',data=df_training_data,kind='bar')",
            "execution_count": 10,
            "outputs": [
                {
                    "output_type": "execute_result",
                    "execution_count": 10,
                    "data": {
                        "text/plain": "<seaborn.axisgrid.FacetGrid at 0x7f9d072dd710>"
                    },
                    "metadata": {}
                },
                {
                    "output_type": "display_data",
                    "data": {
                        "text/plain": "<Figure size 360x360 with 1 Axes>",
                        "image/png": "[encoded data removed]"
                    },
                    "metadata": {
                        "needs_background": "light"
                    }
                }
            ]
        },
        {
            "metadata": {},
            "cell_type": "markdown",
            "source": "# Craete Model :-\n\n1). Importing all DeepLearning Library\n\n"
        },
        {
            "metadata": {
                "scrolled": true
            },
            "cell_type": "code",
            "source": "from keras.models import Sequential\nfrom keras.layers import *",
            "execution_count": 11,
            "outputs": [
                {
                    "output_type": "stream",
                    "text": "Using TensorFlow backend.\n",
                    "name": "stderr"
                }
            ]
        },
        {
            "metadata": {},
            "cell_type": "markdown",
            "source": "# Load the Scaled dataset...."
        },
        {
            "metadata": {},
            "cell_type": "code",
            "source": "\nbody = client_f64b5f27fc854b7f80899f2b97ec10fd.get_object(Bucket='alex-donotdelete-pr-2ol1y2nhtgiuwv',Key='Scaled_Sales_Training_data.csv')['Body']\n# add missing __iter__ method, so pandas accepts body as file-like object\nif not hasattr(body, \"__iter__\"): body.__iter__ = types.MethodType( __iter__, body )\n\n# If you are reading an Excel file into a pandas DataFrame, replace `read_csv` by `read_excel` in the next statement.\ntraining_data = pd.read_csv(body)\ntraining_data.head()\n",
            "execution_count": 12,
            "outputs": [
                {
                    "output_type": "execute_result",
                    "execution_count": 12,
                    "data": {
                        "text/plain": "   critic_rating  is_action  is_exclusive_to_us  is_portable  is_role_playing  \\\n0       0.500000        1.0                 1.0          1.0              0.0   \n1       0.166667        0.0                 0.0          0.0              1.0   \n2       0.500000        0.0                 0.0          0.0              0.0   \n3       0.666667        1.0                 1.0          0.0              0.0   \n4       0.000000        1.0                 0.0          1.0              0.0   \n\n   is_sequel  is_sports  suitable_for_kids  total_earnings  unit_price  \n0        1.0        0.0                1.0        0.799179         1.0  \n1        1.0        0.0                0.0        0.157502         1.0  \n2        1.0        1.0                0.0        0.189704         1.0  \n3        1.0        0.0                0.0        0.392233         0.0  \n4        1.0        0.0                0.0        0.215464         1.0  ",
                        "text/html": "<div>\n<style scoped>\n    .dataframe tbody tr th:only-of-type {\n        vertical-align: middle;\n    }\n\n    .dataframe tbody tr th {\n        vertical-align: top;\n    }\n\n    .dataframe thead th {\n        text-align: right;\n    }\n</style>\n<table border=\"1\" class=\"dataframe\">\n  <thead>\n    <tr style=\"text-align: right;\">\n      <th></th>\n      <th>critic_rating</th>\n      <th>is_action</th>\n      <th>is_exclusive_to_us</th>\n      <th>is_portable</th>\n      <th>is_role_playing</th>\n      <th>is_sequel</th>\n      <th>is_sports</th>\n      <th>suitable_for_kids</th>\n      <th>total_earnings</th>\n      <th>unit_price</th>\n    </tr>\n  </thead>\n  <tbody>\n    <tr>\n      <th>0</th>\n      <td>0.500000</td>\n      <td>1.0</td>\n      <td>1.0</td>\n      <td>1.0</td>\n      <td>0.0</td>\n      <td>1.0</td>\n      <td>0.0</td>\n      <td>1.0</td>\n      <td>0.799179</td>\n      <td>1.0</td>\n    </tr>\n    <tr>\n      <th>1</th>\n      <td>0.166667</td>\n      <td>0.0</td>\n      <td>0.0</td>\n      <td>0.0</td>\n      <td>1.0</td>\n      <td>1.0</td>\n      <td>0.0</td>\n      <td>0.0</td>\n      <td>0.157502</td>\n      <td>1.0</td>\n    </tr>\n    <tr>\n      <th>2</th>\n      <td>0.500000</td>\n      <td>0.0</td>\n      <td>0.0</td>\n      <td>0.0</td>\n      <td>0.0</td>\n      <td>1.0</td>\n      <td>1.0</td>\n      <td>0.0</td>\n      <td>0.189704</td>\n      <td>1.0</td>\n    </tr>\n    <tr>\n      <th>3</th>\n      <td>0.666667</td>\n      <td>1.0</td>\n      <td>1.0</td>\n      <td>0.0</td>\n      <td>0.0</td>\n      <td>1.0</td>\n      <td>0.0</td>\n      <td>0.0</td>\n      <td>0.392233</td>\n      <td>0.0</td>\n    </tr>\n    <tr>\n      <th>4</th>\n      <td>0.000000</td>\n      <td>1.0</td>\n      <td>0.0</td>\n      <td>1.0</td>\n      <td>0.0</td>\n      <td>1.0</td>\n      <td>0.0</td>\n      <td>0.0</td>\n      <td>0.215464</td>\n      <td>1.0</td>\n    </tr>\n  </tbody>\n</table>\n</div>"
                    },
                    "metadata": {}
                }
            ]
        },
        {
            "metadata": {},
            "cell_type": "markdown",
            "source": "# Creating Input X and Label Y for Neural Network"
        },
        {
            "metadata": {},
            "cell_type": "code",
            "source": "# Creating Input and Labels for the Neural Network\n\nX=training_data.drop('total_earnings',axis=1).values\nY=training_data[['total_earnings']].values\n",
            "execution_count": 13,
            "outputs": []
        },
        {
            "metadata": {},
            "cell_type": "markdown",
            "source": "# Defining the Model"
        },
        {
            "metadata": {},
            "cell_type": "code",
            "source": "model = Sequential()\nmodel.add(Dense(50,input_dim=9,activation=\"relu\"))\nmodel.add(Dense(100,activation=\"relu\"))\nmodel.add(Dense(50,activation=\"relu\"))\nmodel.add(Dense(1,activation=\"linear\"))\nmodel.summary()",
            "execution_count": 14,
            "outputs": [
                {
                    "output_type": "stream",
                    "text": "WARNING:tensorflow:From /opt/conda/envs/Python36/lib/python3.6/site-packages/tensorflow/python/framework/op_def_library.py:263: colocate_with (from tensorflow.python.framework.ops) is deprecated and will be removed in a future version.\nInstructions for updating:\nColocations handled automatically by placer.\n_________________________________________________________________\nLayer (type)                 Output Shape              Param #   \n=================================================================\ndense_1 (Dense)              (None, 50)                500       \n_________________________________________________________________\ndense_2 (Dense)              (None, 100)               5100      \n_________________________________________________________________\ndense_3 (Dense)              (None, 50)                5050      \n_________________________________________________________________\ndense_4 (Dense)              (None, 1)                 51        \n=================================================================\nTotal params: 10,701\nTrainable params: 10,701\nNon-trainable params: 0\n_________________________________________________________________\n",
                    "name": "stdout"
                }
            ]
        },
        {
            "metadata": {},
            "cell_type": "markdown",
            "source": "# Now Compile the Model  "
        },
        {
            "metadata": {},
            "cell_type": "code",
            "source": "model.compile(loss=\"mean_squared_error\",optimizer=\"adam\", metrics=['accuracy'])",
            "execution_count": 15,
            "outputs": []
        },
        {
            "metadata": {},
            "cell_type": "markdown",
            "source": "# Train the Model"
        },
        {
            "metadata": {},
            "cell_type": "code",
            "source": "history = model.fit(\n    X,\n    Y,\n    epochs=50,\n    shuffle=True,\n    verbose=2\n)",
            "execution_count": 16,
            "outputs": [
                {
                    "output_type": "stream",
                    "text": "WARNING:tensorflow:From /opt/conda/envs/Python36/lib/python3.6/site-packages/tensorflow/python/ops/math_ops.py:3066: to_int32 (from tensorflow.python.ops.math_ops) is deprecated and will be removed in a future version.\nInstructions for updating:\nUse tf.cast instead.\nEpoch 1/50\n - 19s - loss: 0.0223 - acc: 0.0000e+00\nEpoch 2/50\n - 18s - loss: 0.0060 - acc: 0.0000e+00\nEpoch 3/50\n - 15s - loss: 0.0020 - acc: 0.0000e+00\nEpoch 4/50\n - 16s - loss: 0.0010 - acc: 0.0000e+00\nEpoch 5/50\n - 15s - loss: 5.9903e-04 - acc: 0.0000e+00\nEpoch 6/50\n - 12s - loss: 4.2517e-04 - acc: 0.0000e+00\nEpoch 7/50\n - 16s - loss: 2.8479e-04 - acc: 0.0000e+00\nEpoch 8/50\n - 13s - loss: 2.1863e-04 - acc: 0.0000e+00\nEpoch 9/50\n - 16s - loss: 1.5999e-04 - acc: 0.0000e+00\nEpoch 10/50\n - 15s - loss: 1.4489e-04 - acc: 0.0000e+00\nEpoch 11/50\n - 15s - loss: 1.2464e-04 - acc: 0.0000e+00\nEpoch 12/50\n - 15s - loss: 1.0262e-04 - acc: 0.0000e+00\nEpoch 13/50\n - 15s - loss: 9.6068e-05 - acc: 0.0000e+00\nEpoch 14/50\n - 18s - loss: 7.4339e-05 - acc: 0.0000e+00\nEpoch 15/50\n - 17s - loss: 6.7970e-05 - acc: 0.0000e+00\nEpoch 16/50\n - 14s - loss: 6.1688e-05 - acc: 0.0000e+00\nEpoch 17/50\n - 14s - loss: 5.6709e-05 - acc: 0.0000e+00\nEpoch 18/50\n - 16s - loss: 5.7191e-05 - acc: 0.0000e+00\nEpoch 19/50\n - 19s - loss: 4.9603e-05 - acc: 0.0000e+00\nEpoch 20/50\n - 20s - loss: 4.6707e-05 - acc: 0.0000e+00\nEpoch 21/50\n - 20s - loss: 4.7335e-05 - acc: 0.0000e+00\nEpoch 22/50\n - 17s - loss: 4.3937e-05 - acc: 0.0000e+00\nEpoch 23/50\n - 14s - loss: 3.7740e-05 - acc: 0.0000e+00\nEpoch 24/50\n - 15s - loss: 3.7579e-05 - acc: 0.0000e+00\nEpoch 25/50\n - 16s - loss: 3.2742e-05 - acc: 0.0000e+00\nEpoch 26/50\n - 17s - loss: 2.9631e-05 - acc: 0.0000e+00\nEpoch 27/50\n - 19s - loss: 2.8268e-05 - acc: 0.0000e+00\nEpoch 28/50\n - 17s - loss: 3.0470e-05 - acc: 0.0000e+00\nEpoch 29/50\n - 16s - loss: 2.6007e-05 - acc: 0.0000e+00\nEpoch 30/50\n - 16s - loss: 2.3248e-05 - acc: 0.0000e+00\nEpoch 31/50\n - 17s - loss: 2.7710e-05 - acc: 0.0000e+00\nEpoch 32/50\n - 18s - loss: 2.3645e-05 - acc: 0.0000e+00\nEpoch 33/50\n - 15s - loss: 2.2361e-05 - acc: 0.0000e+00\nEpoch 34/50\n - 17s - loss: 2.1913e-05 - acc: 0.0000e+00\nEpoch 35/50\n - 15s - loss: 2.1914e-05 - acc: 0.0000e+00\nEpoch 36/50\n - 17s - loss: 2.0014e-05 - acc: 0.0000e+00\nEpoch 37/50\n - 16s - loss: 2.0067e-05 - acc: 0.0000e+00\nEpoch 38/50\n - 16s - loss: 2.1083e-05 - acc: 0.0000e+00\nEpoch 39/50\n - 16s - loss: 1.9116e-05 - acc: 0.0000e+00\nEpoch 40/50\n - 17s - loss: 1.9438e-05 - acc: 0.0000e+00\nEpoch 41/50\n - 15s - loss: 2.7375e-05 - acc: 0.0000e+00\nEpoch 42/50\n - 14s - loss: 2.0137e-05 - acc: 0.0000e+00\nEpoch 43/50\n - 16s - loss: 1.9244e-05 - acc: 0.0000e+00\nEpoch 44/50\n - 16s - loss: 2.6776e-05 - acc: 0.0000e+00\nEpoch 45/50\n - 17s - loss: 2.0211e-05 - acc: 0.0000e+00\nEpoch 46/50\n - 18s - loss: 1.5889e-05 - acc: 0.0000e+00\nEpoch 47/50\n - 17s - loss: 1.6977e-05 - acc: 0.0000e+00\nEpoch 48/50\n - 16s - loss: 1.6662e-05 - acc: 0.0000e+00\nEpoch 49/50\n - 15s - loss: 1.8393e-05 - acc: 0.0000e+00\nEpoch 50/50\n - 17s - loss: 1.4902e-05 - acc: 0.0000e+00\n",
                    "name": "stdout"
                }
            ]
        },
        {
            "metadata": {},
            "cell_type": "markdown",
            "source": "# Visiualization of Loss of Predictive Model"
        },
        {
            "metadata": {},
            "cell_type": "code",
            "source": "import matplotlib.pyplot as plt\nplt.plot(history.history['loss'])\nplt.title('Model Loss')\nplt.ylabel('accuracy')\nplt.xlabel('epoch')\nplt.legend(['train'], loc='upper left')\nplt.show()",
            "execution_count": 17,
            "outputs": [
                {
                    "output_type": "display_data",
                    "data": {
                        "text/plain": "<Figure size 432x288 with 1 Axes>",
                        "image/png": "[encoded data removed]"
                    },
                    "metadata": {
                        "needs_background": "light"
                    }
                }
            ]
        },
        {
            "metadata": {},
            "cell_type": "markdown",
            "source": "# Now Load the Separated Scaled Test dataset"
        },
        {
            "metadata": {},
            "cell_type": "code",
            "source": "#load the separated test dataset\nbody = client_f64b5f27fc854b7f80899f2b97ec10fd.get_object(Bucket='alex-donotdelete-pr-2ol1y2nhtgiuwv',Key='Scaled_Sales_Testing_data.csv')['Body']\n# add missing __iter__ method, so pandas accepts body as file-like object\nif not hasattr(body, \"__iter__\"): body.__iter__ = types.MethodType( __iter__, body )\n\n# If you are reading an Excel file into a pandas DataFrame, replace `read_csv` by `read_excel` in the next statement.\ntest_data = pd.read_csv(body)\ntest_data.head()\n",
            "execution_count": 18,
            "outputs": [
                {
                    "output_type": "execute_result",
                    "execution_count": 18,
                    "data": {
                        "text/plain": "   critic_rating  is_action  is_exclusive_to_us  is_portable  is_role_playing  \\\n0       0.500000        1.0                 1.0          1.0              0.0   \n1       0.166667        0.0                 0.0          0.0              1.0   \n2       0.500000        0.0                 0.0          0.0              0.0   \n3       0.666667        1.0                 1.0          0.0              0.0   \n4       0.000000        1.0                 0.0          1.0              0.0   \n\n   is_sequel  is_sports  suitable_for_kids  total_earnings  unit_price  \n0        1.0        0.0                1.0        0.799179         1.0  \n1        1.0        0.0                0.0        0.157502         1.0  \n2        1.0        1.0                0.0        0.189704         1.0  \n3        1.0        0.0                0.0        0.392233         0.0  \n4        1.0        0.0                0.0        0.215464         1.0  ",
                        "text/html": "<div>\n<style scoped>\n    .dataframe tbody tr th:only-of-type {\n        vertical-align: middle;\n    }\n\n    .dataframe tbody tr th {\n        vertical-align: top;\n    }\n\n    .dataframe thead th {\n        text-align: right;\n    }\n</style>\n<table border=\"1\" class=\"dataframe\">\n  <thead>\n    <tr style=\"text-align: right;\">\n      <th></th>\n      <th>critic_rating</th>\n      <th>is_action</th>\n      <th>is_exclusive_to_us</th>\n      <th>is_portable</th>\n      <th>is_role_playing</th>\n      <th>is_sequel</th>\n      <th>is_sports</th>\n      <th>suitable_for_kids</th>\n      <th>total_earnings</th>\n      <th>unit_price</th>\n    </tr>\n  </thead>\n  <tbody>\n    <tr>\n      <th>0</th>\n      <td>0.500000</td>\n      <td>1.0</td>\n      <td>1.0</td>\n      <td>1.0</td>\n      <td>0.0</td>\n      <td>1.0</td>\n      <td>0.0</td>\n      <td>1.0</td>\n      <td>0.799179</td>\n      <td>1.0</td>\n    </tr>\n    <tr>\n      <th>1</th>\n      <td>0.166667</td>\n      <td>0.0</td>\n      <td>0.0</td>\n      <td>0.0</td>\n      <td>1.0</td>\n      <td>1.0</td>\n      <td>0.0</td>\n      <td>0.0</td>\n      <td>0.157502</td>\n      <td>1.0</td>\n    </tr>\n    <tr>\n      <th>2</th>\n      <td>0.500000</td>\n      <td>0.0</td>\n      <td>0.0</td>\n      <td>0.0</td>\n      <td>0.0</td>\n      <td>1.0</td>\n      <td>1.0</td>\n      <td>0.0</td>\n      <td>0.189704</td>\n      <td>1.0</td>\n    </tr>\n    <tr>\n      <th>3</th>\n      <td>0.666667</td>\n      <td>1.0</td>\n      <td>1.0</td>\n      <td>0.0</td>\n      <td>0.0</td>\n      <td>1.0</td>\n      <td>0.0</td>\n      <td>0.0</td>\n      <td>0.392233</td>\n      <td>0.0</td>\n    </tr>\n    <tr>\n      <th>4</th>\n      <td>0.000000</td>\n      <td>1.0</td>\n      <td>0.0</td>\n      <td>1.0</td>\n      <td>0.0</td>\n      <td>1.0</td>\n      <td>0.0</td>\n      <td>0.0</td>\n      <td>0.215464</td>\n      <td>1.0</td>\n    </tr>\n  </tbody>\n</table>\n</div>"
                    },
                    "metadata": {}
                }
            ]
        },
        {
            "metadata": {},
            "cell_type": "markdown",
            "source": "# Now Separating the input X and label Y from Test dataset for Neural Network"
        },
        {
            "metadata": {},
            "cell_type": "code",
            "source": "\nX_test=test_data.drop('total_earnings',axis=1).values\nY_test=test_data[['total_earnings']].values\n",
            "execution_count": 19,
            "outputs": []
        },
        {
            "metadata": {},
            "cell_type": "markdown",
            "source": "# Now its time to Evaluate the Model"
        },
        {
            "metadata": {},
            "cell_type": "code",
            "source": "test_error_rate=model.evaluate(X_test,Y_test,verbose=0)\nprint(\"The Mean Squared Error (MSE) for the test dataset is : {}\".format(test_error_rate[0]))",
            "execution_count": 20,
            "outputs": [
                {
                    "output_type": "stream",
                    "text": "The Mean Squared Error (MSE) for the test dataset is : 1.4243853802327067e-05\n",
                    "name": "stdout"
                }
            ]
        },
        {
            "metadata": {},
            "cell_type": "markdown",
            "source": "The error is quit very small it means that our model performance is very good enough."
        },
        {
            "metadata": {},
            "cell_type": "markdown",
            "source": "# Now We Make The New Prediction On New Dataset\n\nLoad the new data set so we make to use to make a prediction"
        },
        {
            "metadata": {},
            "cell_type": "code",
            "source": "\nbody = client_f64b5f27fc854b7f80899f2b97ec10fd.get_object(Bucket='alex-donotdelete-pr-2ol1y2nhtgiuwv',Key='proposed_new_product.csv')['Body']\n# add missing __iter__ method, so pandas accepts body as file-like object\nif not hasattr(body, \"__iter__\"): body.__iter__ = types.MethodType( __iter__, body )\n\n# If you are reading an Excel file into a pandas DataFrame, replace `read_csv` by `read_excel` in the next statement.\nnew_data = pd.read_csv(body)\nnew_data.head()\n",
            "execution_count": 21,
            "outputs": [
                {
                    "output_type": "execute_result",
                    "execution_count": 21,
                    "data": {
                        "text/plain": "   critic_rating  is_action  is_exclusive_to_us  is_portable  is_role_playing  \\\n0            0.7        1.0                 1.0          1.0              0.0   \n\n   is_sequel  is_sports  suitable_for_kids  unit_price  \n0        1.0        0.0                1.0         0.8  ",
                        "text/html": "<div>\n<style scoped>\n    .dataframe tbody tr th:only-of-type {\n        vertical-align: middle;\n    }\n\n    .dataframe tbody tr th {\n        vertical-align: top;\n    }\n\n    .dataframe thead th {\n        text-align: right;\n    }\n</style>\n<table border=\"1\" class=\"dataframe\">\n  <thead>\n    <tr style=\"text-align: right;\">\n      <th></th>\n      <th>critic_rating</th>\n      <th>is_action</th>\n      <th>is_exclusive_to_us</th>\n      <th>is_portable</th>\n      <th>is_role_playing</th>\n      <th>is_sequel</th>\n      <th>is_sports</th>\n      <th>suitable_for_kids</th>\n      <th>unit_price</th>\n    </tr>\n  </thead>\n  <tbody>\n    <tr>\n      <th>0</th>\n      <td>0.7</td>\n      <td>1.0</td>\n      <td>1.0</td>\n      <td>1.0</td>\n      <td>0.0</td>\n      <td>1.0</td>\n      <td>0.0</td>\n      <td>1.0</td>\n      <td>0.8</td>\n    </tr>\n  </tbody>\n</table>\n</div>"
                    },
                    "metadata": {}
                }
            ]
        },
        {
            "metadata": {},
            "cell_type": "markdown",
            "source": "# Make the Prediction With the Neural Network"
        },
        {
            "metadata": {},
            "cell_type": "code",
            "source": "prediction=model.predict(new_data)",
            "execution_count": 22,
            "outputs": []
        },
        {
            "metadata": {},
            "cell_type": "markdown",
            "source": "# For Final Result\n\nGrab just the first element of the first prediction (since that's the only have one)"
        },
        {
            "metadata": {},
            "cell_type": "code",
            "source": "prediction=prediction[0][0]\nprint(\"Prediction for new video game earning is : {}\".format(prediction))",
            "execution_count": 23,
            "outputs": [
                {
                    "output_type": "stream",
                    "text": "Prediction for new video game earning is : 0.8412892818450928\n",
                    "name": "stdout"
                }
            ]
        },
        {
            "metadata": {},
            "cell_type": "markdown",
            "source": "# Rescale the Predicted data\n\nRe-scale the dat from the 0 to 1 range back to dollars (because the earning is in dollar).\nThese constant are from when the data was originally scaled down to 0-1 range"
        },
        {
            "metadata": {},
            "cell_type": "code",
            "source": "prediction = prediction+0.1159\nprediction = prediction/0.0000036968\n\nprint(\"Earning Prediction for Proposed New Video Game is ${}\".format(prediction))",
            "execution_count": 24,
            "outputs": [
                {
                    "output_type": "stream",
                    "text": "Earning Prediction for Proposed New Video Game is $258923.73994944082\n",
                    "name": "stdout"
                }
            ]
        }
    ],
    "metadata": {
        "kernelspec": {
            "name": "python3",
            "display_name": "Python 3.6",
            "language": "python"
        },
        "language_info": {
            "name": "python",
            "version": "3.6.9",
            "mimetype": "text/x-python",
            "codemirror_mode": {
                "name": "ipython",
                "version": 3
            },
            "pygments_lexer": "ipython3",
            "nbconvert_exporter": "python",
            "file_extension": ".py"
        }
    },
    "nbformat": 4,
    "nbformat_minor": 1
}